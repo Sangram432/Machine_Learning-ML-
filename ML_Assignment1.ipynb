{
 "cells": [
  {
   "cell_type": "markdown",
   "id": "5c22bc7d-8662-4963-9afe-42ac067e74ab",
   "metadata": {},
   "source": [
    "# Q1- Explain thK following with an example:-\n",
    "1) Artificial IntKlligence \n",
    "2) MachinK LKarnin,\n",
    "3) DKKp LKarning"
   ]
  },
  {
   "cell_type": "code",
   "execution_count": 3,
   "id": "d49ec10d-1ec7-46b1-b1f1-e472c8b42be5",
   "metadata": {},
   "outputs": [],
   "source": [
    "#Artificila Inteligence :-"
   ]
  },
  {
   "cell_type": "raw",
   "id": "2b4c5fd2-9054-4563-9a74-cd593ad8255f",
   "metadata": {},
   "source": [
    "The theory and development of computer systems able to perform tasks normally requiring human intelligence,\n",
    "such as visual perception, speech recognition, decision-making, and translation between languages.\n",
    "\n",
    "Ex:-Autonomous Vehicle , AI based Assistance , Facial Recognization , weather prediction App"
   ]
  },
  {
   "cell_type": "code",
   "execution_count": 5,
   "id": "0996c1c3-ac5d-47b1-be88-d85fc9e06d69",
   "metadata": {},
   "outputs": [],
   "source": [
    "#Machine Learning :-"
   ]
  },
  {
   "cell_type": "raw",
   "id": "44834bf0-02a1-4e9f-8438-c9c04362807e",
   "metadata": {},
   "source": [
    "#Machine learning is a discipline of computer science that uses computer algorithms and analytics \n",
    "to build predictive models that can solve business problems. \n",
    "\n",
    "#Application of AI that allows a system to automatically learn and improve from experience or train data .\n",
    "\n",
    "#Machine Learning is the science of making computers learn and act like humans by feeding data and information without being explicitly programmed.\n",
    "\n",
    "Ex :-Sales forecasting for different products\n",
    "Fraud analysis in banking\n",
    "Product recommendations\n",
    "Stock price prediction"
   ]
  },
  {
   "cell_type": "code",
   "execution_count": 7,
   "id": "d3fb3b31-a3ba-42fb-8604-f414453fff16",
   "metadata": {},
   "outputs": [],
   "source": [
    "#Deep Learning :-"
   ]
  },
  {
   "cell_type": "raw",
   "id": "0528e67e-b932-4af9-86c6-741117009006",
   "metadata": {},
   "source": [
    "a type of machine learning based on artificial neural networks in which multiple layers of processing are \n",
    "used to extract progressively higher level features from data.\n",
    "\n",
    "#Application of ML that uses complex alogorithms and deep neural nets to train a model.\n",
    "\n",
    "Ex :-Cancer tumor detection\n",
    "Captionbot for captioning an image\n",
    "Music generation\n",
    "Image coloring\n",
    "Object detection"
   ]
  },
  {
   "cell_type": "markdown",
   "id": "3b9c3b29-548d-4496-b151-7ad6f416fc03",
   "metadata": {},
   "source": [
    "# Q2- What is supervised learning ? List some examples of supervised ML."
   ]
  },
  {
   "cell_type": "raw",
   "id": "d9966679-bd1a-46ce-92cc-2b230c8f7669",
   "metadata": {},
   "source": [
    "Supervised ML contains a model that is able to predict with the help of a labeled dataset. \n",
    "A labeled dataset is one where you already know the target answer. \n",
    "It is of 2 types:-\n",
    "\n",
    "Classificaion :-\n",
    "#Classification is used when the output variable is categorical.\n",
    "i.e. with 2 or more classes. For example, yes or no, male or female, true or false, etc\n",
    "\n",
    "Regression :-\n",
    "#Regression is used when the output variable is a real or continuous value. \n",
    "In this case, there is a relationship between two or more variables i.e., a change in one variable is associated with a change in the other variable.\n",
    "For example, salary based on work experience or weight based on height, etc.\n"
   ]
  },
  {
   "cell_type": "markdown",
   "id": "c9beee3f-9c7f-4ccd-8d3d-f1674732ef03",
   "metadata": {},
   "source": [
    "# Q3- GWhat is unsupervised ML ? List somK examples of unsupervised  learning ."
   ]
  },
  {
   "cell_type": "raw",
   "id": "332c68d2-8044-4483-8b54-12e45e3ab82f",
   "metadata": {},
   "source": [
    "In Unsupervised Learning, the machine uses unlabeled data and learns on itself without any supervision. \n",
    "The machine tries to find a pattern in the unlabeled data and gives a response.\n",
    "\n",
    "It is of 2 typrs:-\n",
    "\n",
    "CLUSTERING :-\n",
    "#Clustering is the method of dividing the objects into clusters that are similar between them and are dissimilar to the objects belonging to another cluster. \n",
    "For example, finding out which customers made similar product purchases.\n",
    "\n",
    "ASSOCIATION:-\n",
    "Association is a rule-based machine learning to discover the probability of the co-occurrence of items in a collection.\n",
    "For example, finding out which products were purchased together."
   ]
  },
  {
   "cell_type": "markdown",
   "id": "7f805723-5d47-4b51-b7d6-e32133869c4a",
   "metadata": {},
   "source": [
    "# Q4- What is the DIFFERENCE  between AI, ML, DL, and DS?"
   ]
  },
  {
   "cell_type": "raw",
   "id": "cab267f4-30f1-4a40-b862-8adc8f7fee44",
   "metadata": {},
   "source": [
    "DL is a subset of ML , and ML is the subset of AI , AI is the super set of ML and DL . \n",
    "The study of AI,ML and DL is called the Data Science .\n",
    "\n",
    "for example of self driving CAR is an application of AI . This task can be achieved with help of \n",
    "both Machine Learning and Deep Learning (which are subsets of AI)."
   ]
  },
  {
   "cell_type": "markdown",
   "id": "d832f326-7ba6-4d2f-8499-d9d027400211",
   "metadata": {},
   "source": [
    "# Q5- What are the main diff  btwn supervised, unsupervised, and semi-supervised learnings?"
   ]
  },
  {
   "cell_type": "raw",
   "id": "12e9209a-036b-4ce3-8cd6-fdc6a600d822",
   "metadata": {},
   "source": [
    "The main difference between these types is the level of availability of ground truth data, \n",
    "which is prior knowledge of what the output of the model should be for a given input."
   ]
  },
  {
   "cell_type": "markdown",
   "id": "9bc4c0a0-8739-42ed-8a63-ecba3353b848",
   "metadata": {},
   "source": [
    "# Q6-What is train, test and validation split? Explain the importance of each term."
   ]
  },
  {
   "cell_type": "markdown",
   "id": "81264688-e63a-4fd1-a46e-0751cb6796d9",
   "metadata": {},
   "source": [
    "To predict a ML model we have to split the RAW data into 3 parts .\n",
    "The “training” data set is the general term for the samples used to create the model,\n",
    "while the “test” or “validation” data set is used to qualify performance. "
   ]
  },
  {
   "cell_type": "markdown",
   "id": "a49d62b2-a63d-4269-a111-6675b748ca98",
   "metadata": {},
   "source": [
    "# Q7 - How can unsupervised learning  be used in anomaly detection?"
   ]
  },
  {
   "cell_type": "raw",
   "id": "ad7c9251-e6e7-45df-9c8f-effa9bedca87",
   "metadata": {},
   "source": [
    "Unsupervised learning is a type of machine learning that does not rely on labeled data to find patterns \n",
    "or clusters in the data. One of the applications of unsupervised learning is anomaly detection,\n",
    "which is the task of identifying outliers or abnormal instances in the data"
   ]
  },
  {
   "cell_type": "markdown",
   "id": "bbe22dfa-07ec-4c4e-89b6-5b9a1791f561",
   "metadata": {},
   "source": [
    "# Q8- List down some commonly used supervised learning  alogrithms  and unsupervised learning alogrithms."
   ]
  },
  {
   "cell_type": "raw",
   "id": "af3434bb-472e-4a66-b025-df6b7ebfe7c7",
   "metadata": {},
   "source": [
    "The most commonly used Supervised Learning algorithms are decision tree, logistic regression, linear regression, \n",
    "support vector machine. The most commonly used Unsupervised Learning algorithms are k-means clustering, \n",
    "hierarchical clustering, and apriori algorithm."
   ]
  },
  {
   "cell_type": "raw",
   "id": "6bed5c01-0b65-43a5-a473-45d56f2d09e0",
   "metadata": {},
   "source": []
  },
  {
   "cell_type": "code",
   "execution_count": null,
   "id": "c82bc47e-9716-499f-b2a4-573c2e78217d",
   "metadata": {},
   "outputs": [],
   "source": []
  }
 ],
 "metadata": {
  "kernelspec": {
   "display_name": "Python 3 (ipykernel)",
   "language": "python",
   "name": "python3"
  },
  "language_info": {
   "codemirror_mode": {
    "name": "ipython",
    "version": 3
   },
   "file_extension": ".py",
   "mimetype": "text/x-python",
   "name": "python",
   "nbconvert_exporter": "python",
   "pygments_lexer": "ipython3",
   "version": "3.10.8"
  }
 },
 "nbformat": 4,
 "nbformat_minor": 5
}

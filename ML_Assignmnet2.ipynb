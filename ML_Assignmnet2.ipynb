{
 "cells": [
  {
   "cell_type": "markdown",
   "id": "07848d90-b7cc-4783-8057-14950fed263a",
   "metadata": {},
   "source": [
    "# Q1: Define overfitting and underfitting in machine learning. What are the consequences of each, and how\n",
    " can they be mitigated?"
   ]
  },
  {
   "cell_type": "raw",
   "id": "1fb92e66-71f3-4871-a0f5-ee3a53a86596",
   "metadata": {},
   "source": [
    "if the training accuracy is much more higher than the testing accuracy , means if the model has low bias and high variance , its called the overfitting .\n",
    "if the training accuarcy is less and testing accuracy is also less , mean if the model has high bias and high variance , then its called underfitting."
   ]
  },
  {
   "cell_type": "markdown",
   "id": "99e36f49-b0db-4833-96a5-311d8c40b719",
   "metadata": {},
   "source": [
    "# Q2-How can we reduce overfitting? Explain in brief."
   ]
  },
  {
   "cell_type": "raw",
   "id": "7e879db6-fce6-4e5c-9d51-c50bb8e76e66",
   "metadata": {},
   "source": [
    "diff techniques to reduce overfitting are :-\n",
    "Pruning \n",
    "Early stoping \n",
    "Regularization \n",
    "Ensabling \n",
    "Data Augmantaion "
   ]
  },
  {
   "cell_type": "markdown",
   "id": "333cf54b-8246-4b9f-ae16-b487ad02c6d5",
   "metadata": {},
   "source": [
    "# Q3-Explain underfitting. List scenarios where underfitting can occur in ML."
   ]
  },
  {
   "cell_type": "raw",
   "id": "aa284618-7ed9-4292-b825-ce27d7697bab",
   "metadata": {},
   "source": [
    "\n",
    "Underfitting occurs due to high bias and low variance. \n",
    "\n",
    "Underfitting occurs due to high bias and high  variance."
   ]
  },
  {
   "cell_type": "markdown",
   "id": "d27a41e9-fec6-4392-bd84-ea25f7168aab",
   "metadata": {},
   "source": [
    "# Q4-Explain the bias-variance tradeoff in machine learning. What is the relationship between bias and\n",
    "variance, and how do they affect model performance?"
   ]
  },
  {
   "cell_type": "raw",
   "id": "9fadcc61-6c3d-434d-81bc-e90f01305c16",
   "metadata": {},
   "source": [
    "Training accuracy is called the bias , Testing accuracy is called the variance .\n",
    "\n",
    "Bias and variance are complements of each other” The increase of one will result in the decrease of the other and vice versa. \n",
    "Hence, finding the right balance of values is known as the Bias-Variance Tradeoff."
   ]
  },
  {
   "cell_type": "markdown",
   "id": "78d97e59-ab4f-43a0-b166-8d006bfa11ea",
   "metadata": {},
   "source": [
    "# Q5-Q5: Discuss some common methods for detecting overfitting and underfitting in machine learning models.\n",
    "How can you determine whether your model is overfitting or underfitting?"
   ]
  },
  {
   "cell_type": "raw",
   "id": "adbbc2e7-3d45-44d6-8234-c4ab83e6b7b4",
   "metadata": {},
   "source": [
    "If the traing error is high(low bias ) and testing error is also high(low variance ) , its called the underfitting . \n",
    "If the traing accuracy  is high (bias is low ) and testing accuracy is low(hihg variance), its called overfitting.\n",
    "\n",
    "We can determine whether a predictive model is underfitting or overfitting the training data by looking at the \n",
    "prediction error on the training data and the evaluation data."
   ]
  },
  {
   "cell_type": "code",
   "execution_count": null,
   "id": "9175bde0-b2a9-498d-8865-cf8a599d158f",
   "metadata": {},
   "outputs": [],
   "source": []
  },
  {
   "cell_type": "code",
   "execution_count": null,
   "id": "b7ceeb95-e835-4231-8102-405c4ce872ec",
   "metadata": {},
   "outputs": [],
   "source": []
  },
  {
   "cell_type": "code",
   "execution_count": null,
   "id": "153b7f61-d551-41fb-8a3d-85c783eabb43",
   "metadata": {},
   "outputs": [],
   "source": []
  }
 ],
 "metadata": {
  "kernelspec": {
   "display_name": "Python 3 (ipykernel)",
   "language": "python",
   "name": "python3"
  },
  "language_info": {
   "codemirror_mode": {
    "name": "ipython",
    "version": 3
   },
   "file_extension": ".py",
   "mimetype": "text/x-python",
   "name": "python",
   "nbconvert_exporter": "python",
   "pygments_lexer": "ipython3",
   "version": "3.10.8"
  }
 },
 "nbformat": 4,
 "nbformat_minor": 5
}
